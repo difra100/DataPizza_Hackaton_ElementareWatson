{
 "cells": [
  {
   "cell_type": "code",
   "execution_count": 1,
   "metadata": {},
   "outputs": [],
   "source": [
    "import pandas as pd"
   ]
  },
  {
   "cell_type": "code",
   "execution_count": null,
   "metadata": {},
   "outputs": [],
   "source": [
    "filename = 'Misc/Distanze.csv'\n",
    "\n",
    "df = pd.read_csv(filename, sep=',', decimal=',', header=0, index_col=0)\n",
    "\n",
    "display(df)\n",
    "dist_promt_func = lambda x, y, data: f'{x}: Ha una distanza di {data.loc[x, y]} anni luce da {y}'\n",
    "\n",
    "prompt = 'Quella che segue è la distanza in anni luce per ogni coppia di pianeti che si durante il Ciclo cosmico 789.\\n'\n",
    "\n",
    "for i in df.index:\n",
    "    for j in df.columns:\n",
    "        prompt += dist_promt_func(i, j, df) + '\\n'\n",
    "\n",
    "print(prompt)\n",
    "\n"
   ]
  },
  {
   "cell_type": "code",
   "execution_count": 15,
   "metadata": {},
   "outputs": [],
   "source": [
    "with open('distance_prompt.txt', 'w') as file:\n",
    "    file.write(prompt)"
   ]
  }
 ],
 "metadata": {
  "kernelspec": {
   "display_name": "datapizza_hack",
   "language": "python",
   "name": "python3"
  },
  "language_info": {
   "codemirror_mode": {
    "name": "ipython",
    "version": 3
   },
   "file_extension": ".py",
   "mimetype": "text/x-python",
   "name": "python",
   "nbconvert_exporter": "python",
   "pygments_lexer": "ipython3",
   "version": "3.12.8"
  }
 },
 "nbformat": 4,
 "nbformat_minor": 2
}
