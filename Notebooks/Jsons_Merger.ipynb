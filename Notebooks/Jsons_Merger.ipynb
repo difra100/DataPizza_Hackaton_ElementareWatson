{
  "nbformat": 4,
  "nbformat_minor": 0,
  "metadata": {
    "colab": {
      "provenance": []
    },
    "kernelspec": {
      "name": "python3",
      "display_name": "Python 3"
    },
    "language_info": {
      "name": "python"
    }
  },
  "cells": [
    {
      "cell_type": "code",
      "execution_count": null,
      "metadata": {
        "colab": {
          "base_uri": "https://localhost:8080/"
        },
        "id": "j3waKo7wsrYx",
        "outputId": "6c475df3-8e46-4339-d3ee-60b37e0cf6d6"
      },
      "outputs": [
        {
          "output_type": "stream",
          "name": "stdout",
          "text": [
            "Processed L_equilibrio_quantico.json\n",
            "Processed L_oasi_dune_stellari.json\n",
            "Processed La_sala_del_valhalla.json\n",
            "Processed L'Essenza_delle_Dune.json\n",
            "Processed Ristorante_Delle_Dune_Stellari.json\n",
            "Processed Tutti_a_Tarsvola.json\n",
            "Processed Le_stelle_che_ballano.json\n",
            "Processed Le_stelle_dell_infinito_celestiale.json\n",
            "Processed Ristorante_Quantico.json\n",
            "Processed L_Infinito_Sapore.json\n",
            "Processed L_Infinito_in_un_Boccone.json\n",
            "Processed L'Essenza_del_Multiverso_su_Pandora.json\n",
            "Processed L_Architetto_dell_Universo.json\n",
            "Processed Il_sapore_dune.json\n",
            "Processed Le_Stelle_Danzanti.json\n",
            "Processed Le Stelle Astrofisiche.json\n",
            "Processed L_armonia_universale.json\n",
            "Processed L_Etere_del_Gusto.json\n",
            "No matching ingredients file found for L_essenza_cosmica.json\n",
            "Processed L_Universo_in_Cucina.json\n",
            "Processed L_essenza_asgard.json\n",
            "Processed L_eredita_galattica.json\n",
            "Processed La_cosmica_essenza.json\n",
            "Processed Le_Dimensioni_del_Gusto.json\n",
            "Processed L_anima_cosmica.json\n",
            "Processed Universo Gastronomico di Namecc.json\n",
            "Processed L_essenza_dell_infinito.json\n",
            "Processed Il_firmamento.json\n",
            "Processed L_eco_pandora.json\n",
            "Processed L_Eco_dei_Sapori.json\n"
          ]
        }
      ],
      "source": [
        "import json\n",
        "import os\n",
        "from pathlib import Path\n",
        "from typing import Dict, Any\n",
        "\n",
        "def load_json_file(file_path: str) -> Dict[Any, Any]:\n",
        "    \"\"\"Load and parse a JSON file.\"\"\"\n",
        "    try:\n",
        "        with open(file_path, 'r', encoding='utf-8') as f:\n",
        "            return json.load(f)\n",
        "    except json.JSONDecodeError as e:\n",
        "        raise ValueError(f\"Invalid JSON in file {file_path}: {str(e)}\")\n",
        "    except FileNotFoundError:\n",
        "        raise FileNotFoundError(f\"File not found: {file_path}\")\n",
        "\n",
        "def merge_restaurant_data(metadata_file: str, ingredients_file: str, output_path: str) -> None:\n",
        "    \"\"\"\n",
        "    Merge metadata and ingredients data into a single JSON file.\n",
        "\n",
        "    Args:\n",
        "        metadata_file: Path to the metadata JSON file\n",
        "        ingredients_file: Path to the ingredients JSON file\n",
        "        output_path: Path where the merged JSON will be saved\n",
        "    \"\"\"\n",
        "    try:\n",
        "        # Load both files\n",
        "        metadata = load_json_file(metadata_file)\n",
        "        ingredients = load_json_file(ingredients_file)\n",
        "\n",
        "        # Create the merged structure\n",
        "        merged_data = {\n",
        "            \"Nome_ristorante\": metadata.get(\"Nome_ristorante\", \"\"),\n",
        "            \"Nome_chef\": metadata.get(\"Nome_chef\", \"\"),\n",
        "            \"Nome_pianeta\": metadata.get(\"Nome_pianeta\", \"\"),\n",
        "            \"Licenze\": metadata.get(\"Licenze\", []),\n",
        "            \"Ordini\": metadata.get(\"Ordini\", []),\n",
        "            \"piatti\": ingredients\n",
        "        }\n",
        "\n",
        "        # Create output directory if it doesn't exist\n",
        "        os.makedirs(os.path.dirname(output_path), exist_ok=True)\n",
        "\n",
        "        # Save the merged data\n",
        "        with open(output_path, 'w', encoding='utf-8') as f:\n",
        "            json.dump(merged_data, ensure_ascii=False, indent=4, fp=f)\n",
        "\n",
        "    except Exception as e:\n",
        "        print(f\"Error processing files: {str(e)}\")\n",
        "\n",
        "def process_restaurant_files(metadata_dir: str, ingredients_dir: str, output_dir: str) -> None:\n",
        "    \"\"\"\n",
        "    Process all matching files in the metadata and ingredients directories.\n",
        "\n",
        "    Args:\n",
        "        metadata_dir: Directory containing metadata JSON files\n",
        "        ingredients_dir: Directory containing ingredients JSON files\n",
        "        output_dir: Directory where merged JSON files will be saved\n",
        "    \"\"\"\n",
        "    # Get all JSON files in metadata directory\n",
        "    metadata_files = Path(metadata_dir).glob(\"*.json\")\n",
        "\n",
        "    for metadata_file in metadata_files:\n",
        "        file_name = metadata_file.name\n",
        "        ingredients_file = Path(ingredients_dir) / file_name\n",
        "\n",
        "        # Check if matching ingredients file exists\n",
        "        if ingredients_file.exists():\n",
        "            output_path = Path(output_dir) / file_name\n",
        "            merge_restaurant_data(\n",
        "                str(metadata_file),\n",
        "                str(ingredients_file),\n",
        "                str(output_path)\n",
        "            )\n",
        "            print(f\"Processed {file_name}\")\n",
        "        else:\n",
        "            print(f\"No matching ingredients file found for {file_name}\")\n",
        "\n",
        "# Example usage\n",
        "if __name__ == \"__main__\":\n",
        "    metadata_directory = \"/content/data/Metadata\"\n",
        "    ingredients_directory = \"/content/data/Ingredienti\"\n",
        "    output_directory = \"/content/data/Output\"\n",
        "\n",
        "    process_restaurant_files(\n",
        "        metadata_directory,\n",
        "        ingredients_directory,\n",
        "        output_directory\n",
        "    )"
      ]
    },
    {
      "cell_type": "code",
      "source": [
        "!rm -rf '/content/data/Output/*'"
      ],
      "metadata": {
        "id": "K8_gikRLtadG"
      },
      "execution_count": null,
      "outputs": []
    },
    {
      "cell_type": "code",
      "source": [
        "import shutil\n",
        "from google.colab import files\n",
        "\n",
        "# Specify the folder you want to download\n",
        "folder_to_download = '/content/data/Output'  # Replace 'folder_name' with your folder's path\n",
        "\n",
        "# Specify the name of the output zip file\n",
        "output_filename = '/content/merged_jsons.zip'\n",
        "\n",
        "# Compress the folder into a zip file\n",
        "shutil.make_archive(output_filename.replace('.zip', ''), 'zip', folder_to_download)\n",
        "\n",
        "# Download the zip file\n",
        "files.download(output_filename)"
      ],
      "metadata": {
        "id": "qKSf9JtKupoK",
        "colab": {
          "base_uri": "https://localhost:8080/",
          "height": 17
        },
        "outputId": "bac598e3-980b-442c-be5c-3fd95da95179"
      },
      "execution_count": null,
      "outputs": [
        {
          "output_type": "display_data",
          "data": {
            "text/plain": [
              "<IPython.core.display.Javascript object>"
            ],
            "application/javascript": [
              "\n",
              "    async function download(id, filename, size) {\n",
              "      if (!google.colab.kernel.accessAllowed) {\n",
              "        return;\n",
              "      }\n",
              "      const div = document.createElement('div');\n",
              "      const label = document.createElement('label');\n",
              "      label.textContent = `Downloading \"${filename}\": `;\n",
              "      div.appendChild(label);\n",
              "      const progress = document.createElement('progress');\n",
              "      progress.max = size;\n",
              "      div.appendChild(progress);\n",
              "      document.body.appendChild(div);\n",
              "\n",
              "      const buffers = [];\n",
              "      let downloaded = 0;\n",
              "\n",
              "      const channel = await google.colab.kernel.comms.open(id);\n",
              "      // Send a message to notify the kernel that we're ready.\n",
              "      channel.send({})\n",
              "\n",
              "      for await (const message of channel.messages) {\n",
              "        // Send a message to notify the kernel that we're ready.\n",
              "        channel.send({})\n",
              "        if (message.buffers) {\n",
              "          for (const buffer of message.buffers) {\n",
              "            buffers.push(buffer);\n",
              "            downloaded += buffer.byteLength;\n",
              "            progress.value = downloaded;\n",
              "          }\n",
              "        }\n",
              "      }\n",
              "      const blob = new Blob(buffers, {type: 'application/binary'});\n",
              "      const a = document.createElement('a');\n",
              "      a.href = window.URL.createObjectURL(blob);\n",
              "      a.download = filename;\n",
              "      div.appendChild(a);\n",
              "      a.click();\n",
              "      div.remove();\n",
              "    }\n",
              "  "
            ]
          },
          "metadata": {}
        },
        {
          "output_type": "display_data",
          "data": {
            "text/plain": [
              "<IPython.core.display.Javascript object>"
            ],
            "application/javascript": [
              "download(\"download_38d5303b-1e07-4c11-8ac1-3ab0f18c686e\", \"merged_jsons.zip\", 41621)"
            ]
          },
          "metadata": {}
        }
      ]
    },
    {
      "cell_type": "code",
      "source": [],
      "metadata": {
        "id": "juPh7CWJ0D8s"
      },
      "execution_count": null,
      "outputs": []
    },
    {
      "cell_type": "markdown",
      "source": [],
      "metadata": {
        "id": "MGfG88Ar0diO"
      }
    }
  ]
}