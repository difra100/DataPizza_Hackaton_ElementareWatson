{
 "cells": [
  {
   "cell_type": "code",
   "execution_count": 1,
   "metadata": {},
   "outputs": [
    {
     "name": "stderr",
     "output_type": "stream",
     "text": [
      "USER_AGENT environment variable not set, consider setting it to identify your requests.\n"
     ]
    }
   ],
   "source": [
    "# imports\n",
    "import getpass\n",
    "import json\n",
    "\n",
    "from langchain_ibm import WatsonxEmbeddings, WatsonxLLM\n",
    "from langchain.vectorstores import Chroma\n",
    "from langchain_community.document_loaders import WebBaseLoader\n",
    "from langchain.text_splitter import RecursiveCharacterTextSplitter\n",
    "from langchain_core.prompts import ChatPromptTemplate, MessagesPlaceholder\n",
    "from langchain.prompts import PromptTemplate\n",
    "from langchain.tools import tool\n",
    "from langchain.tools.render import render_text_description_and_args\n",
    "from langchain.agents.output_parsers import JSONAgentOutputParser\n",
    "from langchain.agents.format_scratchpad import format_log_to_str\n",
    "from langchain.agents import AgentExecutor\n",
    "from langchain.memory import ConversationBufferMemory\n",
    "from langchain_core.runnables import RunnablePassthrough\n",
    "from ibm_watsonx_ai.foundation_models.utils.enums import EmbeddingTypes\n",
    "from ibm_watsonx_ai.metanames import GenTextParamsMetaNames as GenParams"
   ]
  },
  {
   "cell_type": "code",
   "execution_count": 2,
   "metadata": {},
   "outputs": [],
   "source": [
    "import os\n",
    "import glob\n",
    "\n",
    "def get_json_files(folder_path):\n",
    "    \"\"\"\n",
    "    Find all JSON files in the specified folder.\n",
    "    \n",
    "    Args:\n",
    "        folder_path (str): Path to the folder to search\n",
    "        \n",
    "    Returns:\n",
    "        list: List of paths to JSON files\n",
    "    \"\"\"\n",
    "    # Make sure the path exists\n",
    "    if not os.path.exists(folder_path):\n",
    "        raise ValueError(f\"The folder '{folder_path}' does not exist\")\n",
    "        \n",
    "    # Method 1: Using glob\n",
    "    json_files = glob.glob(os.path.join(folder_path, \"*.json\"))\n",
    "    return json_files"
   ]
  },
  {
   "cell_type": "code",
   "execution_count": 3,
   "metadata": {},
   "outputs": [],
   "source": [
    "import pandas as pd\n",
    "from typing import Dict, List\n",
    "\n",
    "def get_planet_distances(planet: str, df: pd.DataFrame) -> Dict[str, float]:\n",
    "    \"\"\"\n",
    "    Get distances from a specific planet to all other planets.\n",
    "    \n",
    "    Args:\n",
    "        planet: Name of the source planet\n",
    "        df: DataFrame containing distance data\n",
    "        \n",
    "    Returns:\n",
    "        Dictionary with planet names as keys and distances as values\n",
    "    \"\"\"\n",
    "    if planet not in df.index:\n",
    "        raise ValueError(f\"Planet {planet} not found in the distance data\")\n",
    "    \n",
    "    # Get all distances for the planet\n",
    "    distances = df.loc[planet].to_dict()\n",
    "    \n",
    "    # Remove self-distance (should be 0)\n",
    "    if planet in distances:\n",
    "        del distances[planet]\n",
    "        \n",
    "    return distances\n",
    "\n",
    "def format_planet_distances(planet: str, distances: Dict[str, float]) -> str:\n",
    "    \"\"\"\n",
    "    Format planet distances into a readable string.\n",
    "    \n",
    "    Args:\n",
    "        planet: Name of the source planet\n",
    "        distances: Dictionary of distances to other planets\n",
    "        \n",
    "    Returns:\n",
    "        Formatted string with distance information\n",
    "    \"\"\"\n",
    "    prompt = f\"Durante il Ciclo cosmico 789, le distanze in anni luce dal pianeta {planet} sono:\\n\"\n",
    "    \n",
    "    # Sort planets by distance\n",
    "    sorted_distances = sorted(distances.items(), key=lambda x: x[1])\n",
    "    \n",
    "    for dest_planet, distance in sorted_distances:\n",
    "        prompt += f\"- {dest_planet}: {distance} anni luce\\n\"\n",
    "    \n",
    "    return prompt\n",
    "\n",
    "def get_formatted_planet_info(planet: str, filename: str) -> str:\n",
    "    \"\"\"\n",
    "    Read CSV and return formatted distance information for a planet.\n",
    "    \n",
    "    Args:\n",
    "        planet: Name of the planet\n",
    "        filename: Path to the CSV file\n",
    "        \n",
    "    Returns:\n",
    "        Formatted string with distance information\n",
    "    \"\"\"\n",
    "    try:\n",
    "        # Read the CSV file\n",
    "        df = pd.read_csv(filename, sep=',', decimal=',', header=0, index_col=0)\n",
    "        \n",
    "        # Get distances\n",
    "        distances = get_planet_distances(planet, df)\n",
    "        \n",
    "        # Format the output\n",
    "        return format_planet_distances(planet, distances)\n",
    "        \n",
    "    except FileNotFoundError:\n",
    "        return f\"Error: File {filename} not found\"\n",
    "    except ValueError as e:\n",
    "        return f\"Error: {str(e)}\"\n",
    "    except Exception as e:\n",
    "        return f\"Error: An unexpected error occurred: {str(e)}\"\n",
    "\n",
    "# You can also create a function to compare distances between planets:\n",
    "def compare_planets_distances(planet1: str, planet2: str, df: pd.DataFrame) -> str:\n",
    "    \"\"\"\n",
    "    Compare distances from two planets to all other planets.\n",
    "    \"\"\"\n",
    "    dist1 = get_planet_distances(planet1, df)\n",
    "    dist2 = get_planet_distances(planet2, df)\n",
    "    \n",
    "    comparison = f\"Confronto delle distanze tra {planet1} e {planet2}:\\n\\n\"\n",
    "    \n",
    "    all_planets = sorted(set(dist1.keys()) | set(dist2.keys()))\n",
    "    \n",
    "    for planet in all_planets:\n",
    "        if planet in dist1 and planet in dist2:\n",
    "            comparison += f\"A {planet}:\\n\"\n",
    "            comparison += f\"- Da {planet1}: {dist1[planet]} anni luce\\n\"\n",
    "            comparison += f\"- Da {planet2}: {dist2[planet]} anni luce\\n\"\n",
    "            comparison += f\"- Differenza: {abs(dist1[planet] - dist2[planet])} anni luce\\n\\n\"\n",
    "    \n",
    "    return comparison"
   ]
  },
  {
   "cell_type": "code",
   "execution_count": 4,
   "metadata": {},
   "outputs": [],
   "source": [
    "def read_json(file_path):\n",
    "    with open(file_path, 'r', encoding='utf-8') as file:\n",
    "        data = json.loads(file.read())\n",
    "    return data"
   ]
  },
  {
   "cell_type": "code",
   "execution_count": 5,
   "metadata": {},
   "outputs": [],
   "source": [
    "def read_text_file(file_path):\n",
    "    # Open and read the file\n",
    "    with open(file_path, 'r') as file:\n",
    "        # Read lines into a list, removing trailing whitespace\n",
    "        lines = [line.strip() for line in file]\n",
    "    return lines\n",
    "\n",
    "# Example usage:\n",
    "file_path = '../../data/Final data cleaned complete to be used/Liste_licenze_ingredienti_techiche/ingredienti.txt'\n",
    "ingredienti = read_text_file(file_path)\n",
    "\n",
    "file_path = '../../data/Final data cleaned complete to be used/Liste_licenze_ingredienti_techiche/tecniche.txt'\n",
    "tecniche = read_text_file(file_path)\n",
    "\n",
    "dish_path = \"../../Hackapizza_Dataset/Misc/dish_mapping.json\"\n",
    "with open(dish_path) as f:\n",
    "    dish_mapping = json.load(f)\n",
    "\n",
    "piatti_list = list(dish_mapping.keys())\n",
    "\n",
    "import pandas as pd\n",
    "filename = '../../Hackapizza_Dataset/Misc/Distanze.csv'\n",
    "distances = pd.read_csv(filename, sep=',', decimal=',', header=0, index_col=0)\n",
    "pianeti = [p for p in distances.columns.to_list() if p != '/']"
   ]
  },
  {
   "cell_type": "code",
   "execution_count": 6,
   "metadata": {},
   "outputs": [],
   "source": [
    "ENDPOINT_URL = \"https://us-south.ml.cloud.ibm.com\"\n",
    "API_KEY = \"DZKT0-JkhDNn9_o6a_N3AiYk06HEifU3Kh6xnWXo16v-\"\n",
    "PROJECT_ID = \"44241d2e-6cff-49ce-b84c-1ed230f8eb36\""
   ]
  },
  {
   "cell_type": "code",
   "execution_count": 7,
   "metadata": {},
   "outputs": [],
   "source": [
    "# model_id = \"meta-llama/llama-3-1-8b-instruct\"\n",
    "# model_id = \"meta-llama/llama-3-3-70b-instruct\"\n",
    "model_id = \"mistralai/mistral-large\""
   ]
  },
  {
   "cell_type": "code",
   "execution_count": 8,
   "metadata": {},
   "outputs": [],
   "source": [
    "llm = WatsonxLLM(\n",
    "    model_id=model_id,\n",
    "    url=ENDPOINT_URL,\n",
    "    apikey=API_KEY,\n",
    "    project_id=PROJECT_ID,\n",
    "    params={\n",
    "        GenParams.DECODING_METHOD: \"greedy\",\n",
    "        GenParams.TEMPERATURE: 0,\n",
    "        GenParams.MIN_NEW_TOKENS: 5,\n",
    "        GenParams.MAX_NEW_TOKENS: 2048,\n",
    "        GenParams.STOP_SEQUENCES: [\"Human:\", \"\\nDomanda\", \"Domanda\"],\n",
    "    },\n",
    ")"
   ]
  },
  {
   "cell_type": "code",
   "execution_count": 10,
   "metadata": {},
   "outputs": [
    {
     "name": "stdout",
     "output_type": "stream",
     "text": [
      "Il ristorante {ristorante} dello Chef {chef} è situato nel pianeta {pianeta}. {distanze_pianeta}\n",
      "Nel menu del ristorante {ristorante} è presente il piatto {piatto} avente le seguenti informazioni:\n",
      "- Ingredienti:\n",
      "{ingredienti}\n",
      "- Tecniche:\n",
      "{tecniche}\n"
     ]
    }
   ],
   "source": [
    "doc_template = \"\"\"Il ristorante {ristorante} dello Chef {chef} è situato nel pianeta {pianeta}. {distanze_pianeta}\n",
    "Nel menu del ristorante {ristorante} è presente il piatto {piatto} avente le seguenti informazioni:\n",
    "- Ingredienti:\\n{ingredienti}\n",
    "- Tecniche:\\n{tecniche}\"\"\"\n",
    "print(doc_template)"
   ]
  },
  {
   "cell_type": "code",
   "execution_count": 11,
   "metadata": {},
   "outputs": [
    {
     "name": "stdout",
     "output_type": "stream",
     "text": [
      "L'ingrediente {ingrediente} è presente nei seguenti piatti:\n",
      "- Piatti:\n",
      "{piatti}\n"
     ]
    }
   ],
   "source": [
    "ingredienti_inverted_template = \"\"\"L'ingrediente {ingrediente} è presente nei seguenti piatti:\n",
    "- Piatti:\\n{piatti}\"\"\"\n",
    "print(ingredienti_inverted_template)"
   ]
  },
  {
   "cell_type": "code",
   "execution_count": 12,
   "metadata": {},
   "outputs": [
    {
     "name": "stdout",
     "output_type": "stream",
     "text": [
      "La licenza {licenza} è presente nei seguenti ristoranti:\n",
      "- Ristoranti:\n",
      "{ristoranti}\n"
     ]
    }
   ],
   "source": [
    "licenze_inverted_template = \"\"\"La licenza {licenza} è presente nei seguenti ristoranti:\n",
    "- Ristoranti:\\n{ristoranti}\"\"\"\n",
    "print(licenze_inverted_template)"
   ]
  },
  {
   "cell_type": "code",
   "execution_count": 13,
   "metadata": {},
   "outputs": [
    {
     "name": "stdout",
     "output_type": "stream",
     "text": [
      "L'ingrediente {ingrediente} è presente nei seguenti piatti:\n",
      "- Piatti:\n",
      "{piatti}\n"
     ]
    }
   ],
   "source": [
    "tecniche_inverted_template = \"\"\"La tecnica {tecnica} è presente nei seguenti piatti:\n",
    "- Piatti:\\n{piatti}\"\"\"\n",
    "print(ingredienti_inverted_template)"
   ]
  },
  {
   "cell_type": "code",
   "execution_count": 14,
   "metadata": {},
   "outputs": [],
   "source": [
    "from typing import List\n",
    "from langchain_core.documents import Document\n",
    "\n",
    "def format_list_items(items):\n",
    "        return \"\\n\".join(f\"  - {item}\" for item in items)\n",
    "\n",
    "folder = \"../../data/Ingredients_And_Metadata\"\n",
    "json_files = get_json_files(folder)\n",
    "\n",
    "documents = []\n",
    "doc_id = 0\n",
    "\n",
    "\n",
    "for idx, file in enumerate(json_files):\n",
    "    data = read_json(file)\n",
    "\n",
    "    pianeta = data['Nome_pianeta']\n",
    "    ristorante = data['Nome_ristorante']\n",
    "    chef = data['Nome_chef']\n",
    "    licenze = data['Licenze']\n",
    "    ordini = data['Ordini']\n",
    "    distanze_pianeta = get_formatted_planet_info(pianeta, '../../Hackapizza_Dataset/Misc/Distanze.csv')\n",
    "\n",
    "    for idx_piatto, (piatto, info) in enumerate(data['piatti'].items()):\n",
    "        ingredienti_formatted = format_list_items(info[\"Ingredienti\"])\n",
    "        tecniche_formatted = format_list_items(info[\"Tecniche\"])\n",
    "\n",
    "        doc = PromptTemplate.from_template(doc_template).format(\n",
    "            ristorante=ristorante,\n",
    "            chef=chef,\n",
    "            pianeta=pianeta,\n",
    "            distanze_pianeta=distanze_pianeta,\n",
    "            piatto=piatto,\n",
    "            ingredienti=ingredienti_formatted,\n",
    "            tecniche=tecniche_formatted\n",
    "        )\n",
    "\n",
    "        docu = Document(page_content=doc, metadata={\n",
    "            \"id\": doc_id,\n",
    "            \"ristorante\": ristorante,\n",
    "            \"chef\": chef,\n",
    "            \"pianeta\": pianeta,\n",
    "            \"piatto\": piatto,\n",
    "        })\n",
    "        doc_id += 1\n",
    "\n",
    "        documents.append(docu)"
   ]
  },
  {
   "cell_type": "code",
   "execution_count": 16,
   "metadata": {},
   "outputs": [
    {
     "data": {
      "text/plain": [
       "277"
      ]
     },
     "execution_count": 16,
     "metadata": {},
     "output_type": "execute_result"
    }
   ],
   "source": [
    "len(documents)"
   ]
  },
  {
   "cell_type": "code",
   "execution_count": 17,
   "metadata": {},
   "outputs": [],
   "source": [
    "inverted_index_ingredienti_path = '../../data/Final data cleaned complete to be used/Inverted_Indices/inverted_index_ingredienti.json'\n",
    "inverted_index_licenze_path = '../../data/Final data cleaned complete to be used/Inverted_Indices/inverted_index_licenze.json'\n",
    "inverted_index_tecniche_path = '../../data/Final data cleaned complete to be used/Inverted_Indices/inverted_index_tecniche.json'"
   ]
  },
  {
   "cell_type": "code",
   "execution_count": 18,
   "metadata": {},
   "outputs": [],
   "source": [
    "data_inverted_ingredienti = read_json(inverted_index_ingredienti_path)\n",
    "data_inverted_licenze = read_json(inverted_index_licenze_path)\n",
    "data_inverted_tecniche = read_json(inverted_index_tecniche_path)"
   ]
  },
  {
   "cell_type": "code",
   "execution_count": 19,
   "metadata": {},
   "outputs": [],
   "source": [
    "for ingrediente, piatti in data_inverted_ingredienti.items():\n",
    "    piatti_formatted = format_list_items(piatti)\n",
    "    doc = PromptTemplate.from_template(ingredienti_inverted_template).format(\n",
    "        ingrediente=ingrediente,\n",
    "        piatti=piatti_formatted\n",
    "    )\n",
    "    docu = Document(page_content=doc, metadata={\"id\": doc_id})\n",
    "    doc_id += 1\n",
    "    documents.append(docu)\n",
    "\n",
    "for licenza, ristoranti in data_inverted_licenze.items():\n",
    "    ristoranti_formatted = format_list_items(ristoranti)\n",
    "    doc = PromptTemplate.from_template(licenze_inverted_template).format(\n",
    "        licenza=licenza,\n",
    "        ristoranti=ristoranti_formatted\n",
    "    )\n",
    "    docu = Document(page_content=doc, metadata={\"id\": doc_id})\n",
    "    doc_id += 1\n",
    "    documents.append(docu)\n",
    "\n",
    "for tecnica, piatti in data_inverted_tecniche.items():\n",
    "    piatti_formatted = format_list_items(piatti)\n",
    "    doc = PromptTemplate.from_template(tecniche_inverted_template).format(\n",
    "        tecnica=tecnica,\n",
    "        piatti=piatti_formatted\n",
    "    )\n",
    "    docu = Document(page_content=doc, metadata={\"id\": doc_id})\n",
    "    doc_id += 1\n",
    "    documents.append(docu)"
   ]
  },
  {
   "cell_type": "code",
   "execution_count": 20,
   "metadata": {},
   "outputs": [],
   "source": [
    "import pickle\n",
    "with open('documents_extra.pkl', 'rb') as file:  # 'wb' means write binary\n",
    "    document_extra = pickle.load(file)"
   ]
  },
  {
   "cell_type": "code",
   "execution_count": 21,
   "metadata": {},
   "outputs": [],
   "source": [
    "documents += document_extra"
   ]
  },
  {
   "cell_type": "code",
   "execution_count": 22,
   "metadata": {},
   "outputs": [
    {
     "data": {
      "text/plain": [
       "582"
      ]
     },
     "execution_count": 22,
     "metadata": {},
     "output_type": "execute_result"
    }
   ],
   "source": [
    "len(documents)"
   ]
  },
  {
   "cell_type": "code",
   "execution_count": 23,
   "metadata": {},
   "outputs": [],
   "source": [
    "embedd_id = 'intfloat/multilingual-e5-large'\n",
    "# embedd_id = 'sentence-transformers/all-minilm-l6-v2'\n",
    "\n",
    "embeddings = WatsonxEmbeddings(\n",
    "    model_id=embedd_id,\n",
    "    url=ENDPOINT_URL,\n",
    "    apikey=API_KEY,\n",
    "    project_id=PROJECT_ID,\n",
    ")"
   ]
  },
  {
   "cell_type": "code",
   "execution_count": 35,
   "metadata": {},
   "outputs": [],
   "source": [
    "text_splitter = RecursiveCharacterTextSplitter.from_tiktoken_encoder(\n",
    "    chunk_size=512, chunk_overlap=100\n",
    ")\n",
    "doc_splits = text_splitter.split_documents(documents)"
   ]
  },
  {
   "cell_type": "code",
   "execution_count": 36,
   "metadata": {},
   "outputs": [],
   "source": [
    "vectorstore = Chroma.from_documents(\n",
    "    documents=doc_splits,\n",
    "    collection_name=\"agentic-rag-chroma\",\n",
    "    embedding=embeddings,\n",
    ")"
   ]
  },
  {
   "cell_type": "code",
   "execution_count": 26,
   "metadata": {},
   "outputs": [],
   "source": [
    "retriever = vectorstore.as_retriever(\n",
    "    search_type=\"mmr\", search_params={\"lambda\": 0.6, \"mu\": 0.2, \"top_k\": 8}, filter = True)"
   ]
  },
  {
   "cell_type": "code",
   "execution_count": 26,
   "metadata": {},
   "outputs": [],
   "source": [
    "# retriever = vectorstore.as_retriever(search_params={\"top_k\": 10}, filter = True)"
   ]
  },
  {
   "cell_type": "code",
   "execution_count": 38,
   "metadata": {},
   "outputs": [],
   "source": [
    "instruction = \"\"\"Sei un assistente che risponde alle domande relative all'ambito culinario intergalattico. Il contesto fornito conterrà informazioni preziose su ristoranti, menu, distanze planetarie, regolamenti galattici, certificazioni alimentari e tecniche culinarie specifiche di tutto il multiverso.\"\"\""
   ]
  },
  {
   "cell_type": "code",
   "execution_count": 39,
   "metadata": {},
   "outputs": [],
   "source": [
    "domande = pd.read_csv('../../Hackapizza_Dataset/domande.csv')['domanda'].to_list()"
   ]
  },
  {
   "cell_type": "code",
   "execution_count": 41,
   "metadata": {},
   "outputs": [],
   "source": [
    "# First, let's format our retrieved documents into a context\n",
    "def format_docs(docs):\n",
    "    return \"\\n\\n\".join(doc.page_content for doc in docs)\n",
    "\n",
    "# Create a template that includes instruction, context, and question\n",
    "template = \"\"\"{instruction}\n",
    "\n",
    "### Linee guida per la risposta:\n",
    "Rispondi alle domande scrivendo solamente i piatti che rispondono alla domanda, in base al contesto fornito.\n",
    "### Contesto:\n",
    "{context}\n",
    "\n",
    "I piatti tra cui puoi scegliere sono i seguenti:\n",
    "### Lista di piatti disponibili:\n",
    "{piatti_list}\n",
    "\n",
    "Per essere sicuri che tu abbia capito ti lascio un esempio di domanda e risposta:\n",
    "### Esempio di domanda e risposta:\n",
    "Domanda: Quali sono i piatti che iniziano con la lettera A?\n",
    "Risposta:\n",
    "- Alternate Realities Risotto\n",
    "- Antipasto Celestiale\n",
    "- Antipasto Stellare dell'Eterna Armonia\n",
    "- Armonia Cosmica alla Tavola d'Oro\n",
    "- Armonia Cosmica della Fenice\n",
    "\n",
    "MI RACCOMANDO RISPONDI ATTENTAMENTE ALLA DOMANDA, PER ME é molto IMPORTANTE!\n",
    "### Domanda: {question}\n",
    "Risposta:\"\"\"\n",
    "\n",
    "prompt = PromptTemplate(\n",
    "    input_variables=[\"instruction\", \"context\", \"question\"],\n",
    "    template=template\n",
    ")\n",
    "\n",
    "responses = []\n",
    "for question in domande:\n",
    "    retrieved_docs = retriever.invoke(question)\n",
    "\n",
    "    # Format with all variables\n",
    "    final_prompt = prompt.format(\n",
    "        instruction=instruction,\n",
    "        context=format_docs(retrieved_docs),\n",
    "        question=question,\n",
    "        piatti_list=piatti_list\n",
    "    )\n",
    "    response = llm(final_prompt)\n",
    "    responses.append(response)"
   ]
  },
  {
   "cell_type": "code",
   "execution_count": 42,
   "metadata": {},
   "outputs": [
    {
     "data": {
      "text/plain": [
       "['\\n- Galassia di Sapori: Il Viaggio Senza Tempo',\n",
       " '\\n- Sinfonia Cosmica: Versione Pizza',\n",
       " \"\\n- Pizza Cosmica all'Essenza di Drago con Nebbia Arcobaleno e Funghi Orbitali\",\n",
       " '\\n- Sinfonia Cosmica di Sapore',\n",
       " '\\n- Il Rapsodo Celestiale',\n",
       " \"\\n- Rinascita Cosmica\\n- Pioggia Calante dell'Universo\\n- Pizza Baby Daniele\\n- Pizza Baby Simone e Alessandro\\n- Plasma Celestiale al Risotto di Kraken nell'Aura del Sole\\n- Quadrifonia Cosmica: Sinfonia di Sapori e Dimensioni\\n- Risotto dei Multiversi\\n- Sinfonia Celestiale dei Ricordi\\n- Sinfonia Cosmica della Rinascita\\n- Sinfonia Cosmica: Versione Pizza\\n- Sinfonia Cosmica: la Vendetta Fantasma\\n- Sinfonia Galattica ai Cristalli di Nebulite\\n- Sinfonia Temporale Galattica\\n- Sinfonia Temporale al Tocco di Crono\\n- Sinfonia Temporale nello Spaghi del Sole\\n- Sinfonia dell'Universo\\n- Universo Cosmico nel Piatto\\n- Universo Incantato: Sinfonia dei Gusti Cosmogonici\\n- Valzer delle Stelle\",\n",
       " '\\n- Portale del Cosmo\\n- Rivisitazione del Kraken sotto Molecole\\n- Stella Nova',\n",
       " '\\n- Aurora del Cosmo\\n- Cosmic Serenade\\n- Cosmic Synchrony: Il Destino di Pulsar\\n- Fusione Celeste\\n- Nebulosa Galattica\\n- Sinfonia Cosmica di Andromeda',\n",
       " '\\n- Galassia di Sapori Sublimi\\n- Sinfonia Cosmica del Multiverso',\n",
       " \"\\n- La Mucca Che Stordisce l'Universo\\n- Risotto dei Multiversi\\n- Sogni di Abisso Cosmico\",\n",
       " '\\n- Sinfonia Celeste di Granuli Arcobaleno e Riso di Cassandra\\n- Sinfonia Temporale di Fenice e Xenodonte su Pane degli Abissi con Colata di Plasma Vitale e Polvere di Crononite',\n",
       " '\\n- Risveglio Cosmico\\n- Sinfonia Quantistica delle Stelle',\n",
       " '\\n- Nebulare Asteroideo con Crepuscolo di Mucca',\n",
       " '\\n- Antipasto Celestiale\\n- Galassia di Sapori di Aurora\\n- Galassia di Sapori: Il Viaggio Senza Tempo\\n- Galassia di Sapori: Sinfonia Transdimensionale\\n- Galassia di Sogni Cosmogastronomici\\n- Il Viaggio Celeste',\n",
       " \"\\n- Cosmic Harmony Infusion\\n- Eclissi Armonica di Sapori\\n- Eclissi Quantica: Viaggio nei Reami del Gusto\\n- Il Viaggio dell'Etereo Risveglio\\n- Nebulare Asteroideo con Crepuscolo di Mucca\\n- Panetto di Carne\\n- Pizza Gio\\n- Serenata del Multiverso\\n- Sinfonia Cosmica di Terracotta\\n- Sinfonia degli Elementi Eterni\\n- Tris di Carne con Pane\\n- Viaggio Cosmico nel Multiverso\",\n",
       " '\\n- Cosmic Harmony Infusion\\n- Eclissi Armonica di Sapori\\n- Eclissi Quantica: Viaggio nei Reami del Gusto\\n- Nebulare Asteroideo con Crepuscolo di Mucca\\n- Panetto di Carne\\n- Pizza Gio\\n- Serenata del Multiverso\\n- Sinfonia Cosmica di Terracotta\\n- Sinfonia degli Elementi Eterni\\n- Viaggio Cosmico nel Multiverso',\n",
       " '\\n- Cosmo Sferico di Sogni Rigenerativi\\n- La Balena Sputafuoco\\n- Pizza Cri\\n- Portale Interdimensionale di Sapori\\n- Sassi e Sassolini\\n- Sinfonia Cosmica di Sapore\\n- Sinfonia Cosmica in Otto Movimenti\\n- Sinfonia di Gusti del Multiverso\\n- Universo in Un Boccone',\n",
       " '\\n- Ecosistema Celeste\\n- Euforia Cosmica\\n- Galaxia Rinasciata\\n- Nebulosa Celestiale di Sogni Quantici\\n- Portale Interdimensionale di Sapori',\n",
       " '\\n- Galassia Aurorale',\n",
       " '\\n- Galassia di Sapore Quantum\\n- Galassia di Sapore Quantico',\n",
       " '\\n- Galassia di Sapore Interstellare\\n- Galaxia Gustativa\\n- Portale Cosmico del Kraken\\n- Sinfonia Cosmica ma Fatta Bene\\n- Sinfonia Temporale delle Profondità Infrasoniche',\n",
       " \"\\n- Galassia di Sapore Interdimensionale\\n- Galassia di Sapori Eterei\\n- Galassia di Sapori Interstellari\\n- Galassia di Sapori: L'Eterno Ritorno\\n- Galassia in Tavola: Sinfonia dei Sensi\\n- Nebulosa Celestiale alla Stellaris\\n- Nebulosa Galattica\\n- Sinfonia Celeste di Granuli Arcobaleno e Riso di Cassandra\",\n",
       " '\\n- Risotto Interdimensionale alla Carne di Drago e Balena Spaziale',\n",
       " '\\n- Luce e Ombra di Nomea Spaziale',\n",
       " \"\\n- Galassia di Sogni Cosmogastronomici\\n- Il Rapsodo Celestiale\\n- Luce e Ombra di Nomea Spaziale\\n- Nebulosa dell'Infinito\\n- Sinfonia Cosmica di Sapori\",\n",
       " \"\\n- Eclissi Armonica di Sapori\\n- Sinfonia Cosmica all'Alba di Fenice\",\n",
       " \"\\n- La Mucca Che Stordisce l'Universo\",\n",
       " '\\n- Eterna Sinfonia del Cosmo\\n- Viaggio Gastronomico tra le Stelle',\n",
       " '\\n- Cosmic Synchrony: Il Destino di Pulsar\\n- Eclissi Armonica di Sapori\\n- Galassia Sensoriale\\n- Galassia di Sapore Interdimensionale\\n- Galassie alla Spirale di Vento con Sfera di Ghiaccio Eterno\\n- Portale del Cosmo: Sinfonia di Sapori e Tempi\\n- Sinfonia Cosmica di Proteine Interstellari\\n- Sinfonia Cosmica: la Vendetta Fantasma\\n- Sinfonia degli Elementi Eterni\\n- Sinfonia di Multiverso: La Danza degli Elementi',\n",
       " \"\\n- Galassia di Sapori di Aurora\\n- L'Eternità al Crepuscolo\\n- La Balena Sputafuoco\\n- Rintocchi del Cosmo\\n- Sassi e Sassolini\",\n",
       " \"\\n- Cosmic Rhapsody\\n- Eterea Sinfonia di Gravità con Infusione Temporale\\n- Ethereal Temporal Elixir\\n- Euforia Cosmica\\n- Galassia di Sapori di Aurora\\n- Galassie Riflesse: Sinfonia del Multiverso\\n- Il Banchetto delle Galassie\\n- Il Viaggio delle Dimensioni Confluenti\\n- L'Eternità al Crepuscolo\\n- La Balena Sputafuoco\\n- La Voce del Vento\\n- Nebulosa Celestiale alla Stellaris\\n- Nebulosa di Fenice con Sinfonia Eterea\\n- Pizza Cri\\n- Pizza Emma\\n- Porta Celestiale alle Stelle\\n- Portale delle Stelle\\n- Rintocchi del Cosmo\\n- Risveglio Cosmico: Un Viaggio nel Sapore Quantistico\\n- Sassi e Sassolini\\n- Sfere del Ricordo Astrale\\n- Sinfonia Celeste dell'Equilibrio Temporale\\n- Sinfonia Cosmica\\n- Sinfonia Cosmica all'Alba di Fenice\\n- Sinfonia Cosmica di Proteine Interstellari\\n- Sinfonia Cosmica ma Fatta Male\\n- Sinfonia Galattica\\n- Sinfonia di Cristalli e Rigenerazione\\n- Sinfonia di Galassie Riflesse\",\n",
       " \"\\n- Nebulae Di-Cedri Risvegliati\\n- Nebulosa Celestiale di Sogni Quantici\\n- Nebulosa dell'Infinito\\n- Sinfonia Cosmica alla Szechuan\",\n",
       " '\\n- Galassie Riflesse: Sinfonia del Multiverso\\n- Portale delle Stelle\\n- Rivelazione del Multiverso\\n- Sinfonia Cosmica della Rinascita\\n- Sinfonia del Cosmo e della Leggenda',\n",
       " '\\n- Universo Cosmico nel Piatto',\n",
       " \"\\n- Melodia del Multiverso Parallelo\\n- Nebulose della Fenice su Vento Lunare\\n- Sinfonia Cosmica di Terracotta\\n- Universo Cosmico nel Piatto\\n- Verso l'Inedito Oltre\\n- Viaggio Gastronomico tra le Stelle\",\n",
       " '\\n- Galassia di Sapore Quantum\\n- Luce e Ombra di Nomea Spaziale\\n- Pizza Emma\\n- Pizza Gio\\n- Sinfonia Cosmica di Sapore\\n- Universo in Un Boccone',\n",
       " '\\n- Nebulose della Fenice su Vento Lunare',\n",
       " '\\n- Galassia di Sapori\\n- Portale delle Stelle',\n",
       " \"\\n- Astro-Risotto alle Onde Temporali\\n- Etereo Crepuscolare\\n- Galassie Infiammate: Sinfonia Cosmica in Sei Dimensioni\\n- Galassie Riflesse: Sinfonia del Multiverso\\n- Il Risveglio delle Stelle\\n- L'Eternità al Crepuscolo\\n- Pizza Gio\\n- Sinfonia Celestiale di Gnocchi del Crepuscolo\\n- Sinfonia Cosmica della Rinascita\\n- Sinfonia Temporale nello Spaghi del Sole\",\n",
       " \"\\n- Eterea Sinfonia di Gravità con Infusione Temporale\\n- Fenice Galattica\\n- Fenice sull'Orizzonte degli Eventi\\n- Nebulose della Fenice su Vento Lunare\\n- Pizza Baby Daniele\\n- Pizza Emma\\n- Sinfonia Astrale - Risotto Multiversale con Risacca Celeste\\n- Sinfonia Interstellare di Fusilli del Vento con Nettare di Sirena\",\n",
       " \"\\n- Galassia Incantata: Un Viaggio Attraverso l'Infinito\\n- Risveglio Cosmico: Una Sinfonia di Sapori Universali\\n- Serenata del Multiverso\\n- Sinfonia Celestiale\",\n",
       " \"\\n- Falso Risotto dell'Infinito Multiverso\\n- Rinascita Cosmica\",\n",
       " \"\\n- Ecosistema Celeste\\n- Galassia Risvegliata\\n- Galassia d'Aromi Perduti\\n- Mycoflora con Polvere di Stelle Sbagliato\\n- Sinfonia Cosmica del Multiverso\\n- Sinfonia di Stagioni Stellari\\n- Universo in Fusilli - Variazione Celestiale\",\n",
       " '\\n- Galassia Speculare\\n- Galassie alla Spirale di Vento con Sfera di Ghiaccio Eterno\\n- Ode al Crepuscolo del Multiverso\\n- Panetto di Carne\\n- Più Lontano delle Stelle\\n- Portale Cosmico: Sinfonia di Gnocchi del Crepuscolo con Essenza di Tachioni e Sfumature di Fenice\\n- Viaggio Cosmico nel Multiverso',\n",
       " '\\n- Sinfonia Temporale di Fenice e Xenodonte su Pane degli Abissi con Colata di Plasma Vitale e Polvere di Crononite',\n",
       " \"\\n- Echi del Cosmo\\n- Echi del Mare Eterno\\n- Galassia Infinita: Viaggio tra Memorie e Stelle\\n- Plasma Celestiale al Risotto di Kraken nell'Aura del Sole\\n- Tris di Verdure con Xenodonte\\n- Viaggio dei Sensi: Bolla Temporale di Aromi Ancestrali\",\n",
       " '\\n- Nebulae Di-Cedri Risvegliati\\n- Porta Celestiale alle Stelle',\n",
       " '\\n- Portale Cosmico: Sinfonia di Gnocchi del Crepuscolo con Essenza di Tachioni e Sfumature di Fenice',\n",
       " \"\\n- Antipasto Stellare dell'Eterna Armonia\\n- Fusione Celeste\\n- Galassia di Cosmo-Delizie\\n- Galassia di Sapori\\n- Il Banchetto delle Galassie\\n- Il Risveglio della Fenice sull'Arcobaleno d'Oceano\\n- Il Viaggio delle Dimensioni Confluenti\\n- Interstellar Requiem\\n- L'Ascensione Siderale\\n- Luce e Ombra di Nomea Spaziale\\n- Microcosmo in un Boccone\\n- Mycoflora con Polvere di Stelle Sbagliato\\n- Piastrella Celestiale di Gnocchi del Crepuscolo\\n- Pioggia di Andromeda\\n- Pizza Cri\\n- Pizza Emma\\n- Portale delle Meraviglie\\n- Rapsodia dei Ricordi Celesti\\n- Serenata del Multiverso\\n- Sinfonia Celeste di Granuli Arcobaleno e Riso di Cassandra\\n- Sinfonia Celestiale di Gnocchi del Crepuscolo\\n- Sinfonia dell'Infinito: Un Viaggio Gnodale tra Terra e Universi\\n- Una Mucca e una Balena nella Singolarità\\n- Universo Incantato: Sinfonia dei Gusti Cosmogonici\\n- Viaggio Cosmico nel Multiverso\\n- Viaggio Galattico: Sinfonia dei Sensi\",\n",
       " \"\\n- Antipasto Celestiale\\n- Antipasto Stellare dell'Eterna Armonia\\n- Concordanza Cosmica - Sinfonia di Sapori Multidimensionali\\n- Cosmic Harmony Infusion\\n- Cosmic Harmony Risotto\\n- Cosmic Symphony di Ghiaccio e Fuoco\\n- Cosmopastico di Meraviglie Celesti\\n- Cosmos Risotto Reale\\n- Dimensioni di Sapori Infusi\\n- Enigma Celeste\\n- Ethereal Temporal Elixir\\n- Fenice sull'Orizzonte degli Eventi\\n- Galassia Ardente\\n- Galassia Incantata: Un Viaggio Attraverso l'Infinito\\n- Galassia Infinita: Viaggio tra Memorie e Stelle\\n- Galassia Sensoriale\\n- Galassia Speculare\\n- Galassia d'Aromi Perduti\\n- Galassia di Sapore Interdimensionale\\n- Galassia di Sapori: Il Viaggio Senza Tempo\\n- Galassia di Sapori: L'Eterno Ritorno\\n- Galassie Riflesse: Sinfonia del Multiverso\\n- Il Banchetto delle Galassie\\n- Il Rapsodo Celestiale\\n- L'Estasi Cosmica di Nova\\n- La Balena incontra la Mandragora\\n- Luce e Ombra di Nomea Spaziale\\n- Microcosmo in un Boccone\\n- Nebulosa Celestiale alla Stellaris\\n- Nebulosa dell'Infinito\\n- Nebulosa di Drago Interdimensionale\\n- Odissea Cosmica di Nettuno\\n- Pane e Carne Rivisitato\\n- Panetto di Carne\\n- Pizza Baby Lorenzo\\n- Pizza Baby Simone e Alessandro\\n- Pizza Gio\\n- Portale Astrale di Sapori\\n- Portale del Cosmo: Sinfonia di Sapori e Tempi\",\n",
       " \"\\n- Cosmic Harmony\\n- Cosmic Harmony Infusion\\n- Cosmic Symphony di Ghiaccio e Fuoco\\n- Cosmopolis delle Galassie Perdute\\n- Echi del Mare Eterno\\n- Eclissi Quantica: Viaggio nei Reami del Gusto\\n- Fusione Celeste\\n- Galassia Commovente di Stellari\\n- Galassia Speculare\\n- Galassie in Epifania: Risotto Celestiale con Preziosi dell'Universo\\n- Galaxia Gustativa\\n- Il Ricordo del Fuoco Celeste\\n- Il Simposio degli Infiniti Ricordi\\n- Il Viaggio Cosmico di Marinetti\\n- Microcosmo in un Boccone\\n- Pizza Baby Simone e Alessandro\\n- Rintocchi del Cosmo\\n- Simfonia Celeste di Aurora\\n- Sinfonia Celeste dell'Equilibrio Temporale\\n- Sinfonia Cosmica di Mare e Stelle\\n- Sinfonia Galattica Agentica\\n- Sinfonia dell'Universo Morente\\n- Sinfonia di Cristalli e Rigenerazione\\n- Sinfonia di Multiverso: La Danza degli Elementi\\n- Viaggio dei Ricordi Stellari\",\n",
       " \"\\n- Antipasto Stellare dell'Eterna Armonia\\n- Armonia Cosmica della Fenice\\n- Mandragora e Radici\\n- Nebulae Di-Cedri Risvegliati\\n- Risveglio Cosmico\\n- Sinfonia del Cosmo Rigenerante\\n- Universo in Un Boccone\",\n",
       " \"\\n- Cosmic Harmony\\n- Sinfonia Celestiale di Echi Galattici\\n- Sinfonia Temporale nello Spaghi del Sole\\n- Sinfonia del Multiverso Calante\\n- Sinfonia dell'Universo Morente\",\n",
       " \"\\n- Cosmo Sferico di Sogni Rigenerativi\\n- Creazione Celestiale: L'Alba del Cosmo\\n- Crescendo Cosmico\\n- Essenze dell'Infinito\\n- Falso Risotto dell'Infinito Multiverso\\n- Galassia Ardente\\n- Galassia Riflessa\\n- Galassia d'Aromi Perduti\\n- Galassia di Sapori Eterei\\n- Galassia di Sapori Sublimi\\n- Galassia in Tavola: Sinfonia dei Sensi\\n- Interstellare Risveglio di Kraken\\n- Mandragora e Radici\\n- Nebulosa di Confini Sfondati\\n- Nebulosa di Sapori dell'Infinito\\n- Più Lontano delle Stelle\\n- Sinfonia Cosmica del Multiverso\\n- Sinfonia Cosmica ma Fatta Bene\\n- Sinfonia Galattica alla Griglia Cangiante\",\n",
       " \"\\n- Cosmos Quantum Fusion\\n- Cosmos Risotto Reale\\n- Eclissi Quantica: Viaggio nei Reami del Gusto\\n- Essenze dell'Infinito\\n- Falso Risotto dell'Infinito Multiverso\\n- Galassia Commovente di Stellari\\n- Galassia a Tavola: Sinfonia di Tempeste Cosmiche\\n- Galaxia Gustativa\\n- Il Rapsodo Celestiale\\n- Interstellar Requiem\\n- L'Estasi Cosmica di Nova\\n- Lumière Cosmica\\n- Microcosmo in un Boccone\\n- Nebulosa di Sapori Quantici\\n- Nebulose Pensanti: Sinfonia del Multiverso\\n- Panetto di Carne\\n- Pizza Cosmica all'Essenza di Drago con Nebbia Arcobaleno e Funghi Orbitali\\n- Pizza Luca\\n- Portale Cosmico del Kraken\\n- Sinfonia Cosmica: Il Crescendo delle Stelle\\n- Sinfonia Cosmica: Versione Pizza\\n- Sinfonia Galattica di Sapori con Sorpresa di Drago Fiammante\\n- Sinfonia Temporale Galattica\\n- Sinfonia Temporale delle Profondità Infrasoniche\\n- Sinfonia del Cosmo\\n- Sinfonia del Cosmo e della Leggenda\\n- Sinfonia di Stagioni Stellari\\n- Stellar Fusion\",\n",
       " \"\\n- Cosmic Harmony\\n- Cosmo Sferico di Sogni Rigenerativi\\n- Cosmofantasia di Terra e Mare nel Vortice delle Stelle\\n- Cosmos Culinary Symphony\\n- Essenze dell'Infinito\\n- Etereo Crepuscolare\\n- Evanescenza Quantica\\n- Fenice Galattica\\n- Galassia Rinascente\\n- Galassia di Cosmo-Delizie\\n- Galassia di Sapore\\n- Il Banchetto delle Galassie\\n- Il Ricordo del Fuoco Celeste\\n- Il Viaggio Celeste\\n- L'Unicorno piange il Kraken\\n- La Creazione di Nova\\n- La Mucca Che Stordisce l'Universo\\n- Luce e Ombra di Nomea Spaziale\\n- Nebulosa di Dragone all'Essenza di Vuoto\\n- Nebulosa di Sapori dell'Infinito\\n- Pane e Carne Rivisitato\\n- Pioggia di Andromeda\\n- Pioggia di Dimensioni Galattiche\\n- Pizza Baby Simone e Alessandro\\n- Portale Cosmico del Kraken\\n- Portale del Cosmo\\n- Rintocchi del Cosmo\\n- Risveglio Cosmico: Una Sinfonia di Sapori Universali\\n- Sfogliare Galattico di Sogni Temporali\\n- Sinfonia Aromatica del Multiverso\\n- Sinfonia Astrale - Risotto Multiversale con Risacca Celeste\\n- Sinfonia Cosmica alla Szechuan\\n- Sinfonia Cosmica di Sapori\\n- Sinfonia Cosmica ma Fatta Male\\n- Sinfonia Galattica di Sapori con Sorpresa di Drago Fiammante\\n- Sinfonia Multiversale in Otto Movimenti\\n- Sinfonia Quantica Galattica\",\n",
       " \"\\n- Cosmic Harmony Risotto\\n- Cosmopastico di Meraviglie Celesti\\n- Cosmopolis delle Galassie Perdute\\n- Falso Risotto dell'Infinito Multiverso\\n- Fenice sull'Orizzonte degli Eventi\\n- Galassia Ardente\\n- Galassia di Sapore Interstellare\\n- Galassia in Tavola: Sinfonia dei Sensi\\n- Galaxia Rinasciata\\n- L'Unicorno piange il Kraken\\n- Nebulosa Celestiale alla Stellaris\\n- Ode Cosmica di Terra e Stelle\\n- Odissea Celestiale\\n- Pizza Baby Daniele\\n- Più-dimensionale Sinfonia di Sapori: La Carne del Cosmo\\n- Portale delle Stelle\\n- Risotto Interdimensionale alla Carne di Drago e Balena Spaziale\\n- Rivisitazione del Kraken sotto Molecole\\n- Sassi e Sassolini\\n- Sinfonia Celeste dell'Equilibrio Temporale\\n- Sinfonia Cosmica di Armonie Terrestri e Celesti\\n- Sinfonia Cosmica di Luminiscenze e Contrasti\\n- Sinfonia Cosmica in Otto Movimenti\\n- Sinfonia Cosmica: Versione Pizza\\n- Sinfonia Temporale nello Spaghi del Sole\\n- Sinfonia di Galassie Perdute\\n- Verso l'Inedito Oltre\\n- Viaggio Cosmico tra Mare e Stelle\",\n",
       " \"\\n- Cosmic Symphony di Ghiaccio e Fuoco\\n- Cosmos Quantum Fusion\\n- Ecosistema Celeste\\n- Ethereal Temporal Elixir\\n- Galassia Incantata: Un Viaggio Attraverso l'Infinito\\n- Galassia di Sapore Quantico\\n- Galassia di Sapori di Aurora\\n- Galassie Infiammate: Sinfonia Cosmica in Sei Dimensioni\\n- Galassie Sospese: Un Viaggio di Sapori Cosmogalattici\\n- Interstellare Risveglio di Kraken\\n- La Balena Sputafuoco\\n- Mandragora e Radici\\n- Melodia del Multiverso Parallelo\\n- Nebulosa di Sapori dell'Infinito\\n- Pizza Baby Simone e Alessandro\\n- Portale Astrale di Sapori\\n- Portale del Cosmo: Sinfonia di Sapori e Tempi\\n- Sinfonia Astrale\\n- Sinfonia Cosmica di Sapore\\n- Sinfonia Cosmica di Sapori\\n- Sinfonia Galattica di Sapori con Sorpresa di Drago Fiammante\\n- Sinfonia Quantistica dell'Universo\\n- Sinfonia del Cosmo e della Leggenda\\n- Sinfonia dell'Universo Morente\\n- Universo in Un Boccone\\n- Valzer delle Stelle\\n- Viaggio dei Ricordi Stellari\",\n",
       " '\\n- Danza Luminosa del Multiverso\\n- Eterna Sinfonia del Cosmo\\n- Galassie Infiammate: Sinfonia Cosmica in Sei Dimensioni\\n- Pioggia di Andromeda\\n- Sassi e Sassolini\\n- Sinfonia Celestiale di Echi Galattici\\n- Sinfonia Galattica ai Cristalli di Nebulite\\n- Sinfonia del Multiverso Calante\\n- Sinfonia di Stagioni Stellari\\n- Viaggio Celeste nel Multiverso',\n",
       " '\\n- Danza Cosmica al Crepuscolo\\n- La Balena Sputafuoco\\n- Nebulare Asteroideo con Crepuscolo di Mucca\\n- Serenata del Multiverso\\n- Sinfonia Astrale - Risotto Multiversale con Risacca Celeste\\n- Universo in Fluttuazione',\n",
       " \"\\n- Essenze dell'Infinito\",\n",
       " '\\n- Galassia di Sapori di Aurora',\n",
       " \"\\n- Armonia Cosmica della Fenice\\n- Dimensioni di Sapori Infusi\\n- Falso Risotto dell'Infinito Multiverso\\n- Il Crepuscolo dell’Unicorno\\n- Interstellar Requiem\\n- La Creazione di Nova\\n- Lumière Cosmica\\n- Nebulose Pensanti: Sinfonia del Multiverso\\n- Portale di Sapori Arcani\\n- Quadrifonia Cosmica: Sinfonia di Sapori e Dimensioni\\n- Risotto dei Multiversi\\n- Risveglio Cosmico: Un Viaggio nel Sapore Quantistico\\n- Sinfonia Celestiale di Echi Galattici\\n- Sinfonia Cosmica di Sapori\\n- Sinfonia Cosmica di Terre e Stelle\\n- Sinfonia Cosmica: Versione Data\\n- Sinfonia Quantica dell’Oceano Interstellare\\n- Sinfonia del Multiverso Nascente\\n- Sinfonia del Multiverso di Gusto\\n- Antipasto Celestiale\\n- Bistecca Cacofonica dell'Infinito\\n- Galassia Ardente\\n- Galassia Risvegliata\\n- Galassia Sensoriale\\n- Galassia di Sapore Interstellare\\n- Galassia di Sapori Sublimi\\n- Galassia di Sapori: Sinfonia Transdimensionale\\n- Galassie Infiammate: Sinfonia Cosmica in Sei Dimensioni\\n- L'Ascensione Siderale\\n- La Balena Sputafuoco\\n- La Creazione di Nova\\n- Pane e Carne Rivisitato\\n- Pizza Baby Daniele\\n- Pizza Baby Lorenzo\\n- Portale delle Stelle\\n- Rinascita Cosmica\\n- Serenata del Multiverso\\n- Sinfonia Astrale\\n- Sinfonia Cosmica del Multiverso\\n- Sinfonia Cosmica in Otto Movimenti\\n- Una Mucca e una Balena nella Singolarità\\n- Universo in Un Boccone\\n- Valzer Cosmico di Asteria\",\n",
       " \"\\n- Cosmic Rhapsody\\n- Eterea Sinfonia di Gravità con Infusione Temporale\\n- Ethereal Temporal Elixir\\n- Euforia Cosmica\\n- Galassia di Sapori di Aurora\\n- Galassie Riflesse: Sinfonia del Multiverso\\n- Il Banchetto delle Galassie\\n- Il Viaggio delle Dimensioni Confluenti\\n- L'Eternità al Crepuscolo\\n- La Balena Sputafuoco\\n- La Voce del Vento\\n- Nebulosa Celestiale alla Stellaris\\n- Nebulosa di Fenice con Sinfonia Eterea\\n- Pizza Cri\\n- Pizza Emma\\n- Porta Celestiale alle Stelle\\n- Portale delle Stelle\\n- Rintocchi del Cosmo\\n- Risveglio Cosmico: Un Viaggio nel Sapore Quantistico\\n- Sassi e Sassolini\\n- Sfere del Ricordo Astrale\\n- Sinfonia Celeste dell'Equilibrio Temporale\\n- Sinfonia Cosmica\\n- Sinfonia Cosmica all'Alba di Fenice\\n- Sinfonia Cosmica di Proteine Interstellari\\n- Sinfonia Cosmica ma Fatta Male\\n- Sinfonia Galattica\\n- Sinfonia di Cristalli e Rigenerazione\\n- Sinfonia di Galassie Riflesse\\n- Cosmic Symphony di Ghiaccio e Fuoco\\n- Cosmic Synchrony: Il Destino di Pulsar\\n- Cosmofantasia di Terra e Mare nel Vortice delle Stelle\\n- Cosmopastico di Meraviglie Celesti\\n- Eclissi Armonica di Sapori\\n- Galassia Sensoriale\\n- Galassia di Sapore Interdimensionale\\n- Galassie alla Spirale di Vento con Sfera di Ghiaccio Eterno\\n- Portale del Cosmo: Sinfonia di Sapori e Tempi\\n- Sinfonia Cosmica di Proteine Interstellari\\n- Sinfonia Cosmica: la Vendetta Fantasma\\n- Sinfonia Galattica di Sapori con Sorpresa di Drago Fiammante\\n- Sinfonia degli Elementi Eterni\\n- Sinfonia di Multiverso: La Danza degli Elementi\",\n",
       " \"\\n- Galassia di Cosmo-Delizie\\n- Galassia di Sapore\\n- Galassia di Sapori Interstellari\\n- Galassia di Sapori Sublimi\\n- Galassia di Sapori di Aurora\\n- Galassia Aurorale\\n- Galassia Ardente\\n- Eclissi Quantica: Viaggio nei Reami del Gusto\\n- Ecosistema Celeste\\n- Cosmofantasia di Terra e Mare nel Vortice delle Stelle\\n- Cosmos Risotto Reale\\n- Cosmos in Tavola\\n- Il Crepuscolo dell’Unicorno\\n- Il Viaggio dell'Etereo Risveglio\\n- Il Viaggio delle Dimensioni Confluenti\\n- Interstellare Risveglio di Kraken\\n- Melodia del Multiverso Parallelo\\n- Nebulosa Celestiale di Sogni Quantici\\n- Nebulosa di Confini Sfondati\\n- Nebulosa di Drago Interdimensionale\\n- Odissea Cosmica di Nettuno\\n- Pizza Cosmica all'Essenza di Drago con Nebbia Arcobaleno e Funghi Orbitali\\n- Pizza Fra\\n- Pizza Raul\\n- Portale Cosmico del Kraken\\n- Portale delle Meraviglie\\n- Rinascita Cosmica\\n- Risveglio Cosmico\\n- Risveglio Cosmico: Un Viaggio nel Sapore Quantistico\\n- Risveglio Cosmico: Una Sinfonia di Sapori Universali\\n- Simfonia Celeste di Aurora\\n- Sinfonia Cosmica di Luminiscenze e Contrasti\\n- Sinfonia Cosmica ma Fatta Bene\\n- Sinfonia Galattica alla Griglia Cangiante\",\n",
       " \"\\n- Fenice sull'Orizzonte degli Eventi\\n- Tris di Verdure con Xenodonte\",\n",
       " \"\\n- Ecosistema Celeste\\n- Euforia Cosmica\\n- Galaxia Rinasciata\\n- Nebulosa Celestiale di Sogni Quantici\\n- Nebulosa di Confini Sfondati\\n- Portale Interdimensionale di Sapori\\n- Etereo Crepuscolare\\n- Fenice sull'Orizzonte degli Eventi\\n- Galassia di Sapore Interdimensionale\\n- Galassia di Sapori Eterei\\n- Galassia di Sapori Interstellari\\n- Galassia di Sapori: L'Eterno Ritorno\\n- Galassia in Tavola: Sinfonia dei Sensi\\n- Il Risveglio del Multiverso\\n- L'Abbraccio del Cosmo\\n- L'Estasi Cosmica di Nova\\n- Nebulosa Celestiale alla Stellaris\\n- Nebulosa Galattica\\n- Odissea Celestiale\\n- Odissea Temporale\\n- Piastrella Celestiale di Gnocchi del Crepuscolo\\n- Portale Cosmico: Sinfonia di Gnocchi del Crepuscolo con Essenza di Tachioni e Sfumature di Fenice\\n- Risveglio Cosmico: Un Viaggio nel Sapore Quantistico\\n- Simfonia Celeste di Aurora\\n- Sinfonia Celeste di Granuli Arcobaleno e Riso di Cassandra\\n- Sinfonia Cosmica alla Szechuan\\n- Sinfonia Cosmica: Versione Pizza\\n- Sinfonia Galattica\\n- Sinfonia di Cristalli e Rigenerazione\\n- Sinfonia di Gusti del Multiverso\\n- Viaggio Celeste nel Multiverso\\n- Viaggio Galattico: Sinfonia dei Sensi\",\n",
       " '\\n- Concordanza Cosmica - Sinfonia di Sapori Multidimensionali\\n- Cosmic Harmony Infusion\\n- Galassia Ardente\\n- Ode al Crepuscolo del Multiverso\\n- Sassi e Sassolini\\n- Galassia Speculare\\n- Galassie alla Spirale di Vento con Sfera di Ghiaccio Eterno\\n- Panetto di Carne\\n- Più Lontano delle Stelle\\n- Portale Cosmico: Sinfonia di Gnocchi del Crepuscolo con Essenza di Tachioni e Sfumature di Fenice\\n- Viaggio Cosmico nel Multiverso',\n",
       " \"\\n- Cosmic Synchrony: Il Destino di Pulsar\\n- Danza Luminosa del Multiverso\\n- Galassia Rinascente\\n- Galassia d'Aromi Perduti\\n- L'Ascensione Siderale\\n- Nebulosa Eterna\\n- Piccola Odissea Cosmica\\n- Pizza Baby Daniele\\n- Pizza Baby Lorenzo\\n- Porta Celestiale alle Stelle\\n- Risotto Cosmico alla Draconia\\n- Sinfonia Temporale del Drago\\n- Universo Cosmico nel Piatto\\n- Viaggio Galattico: Sinfonia dei Sensi\\n- Antipasto Celestiale\\n- Antipasto Stellare dell'Eterna Armonia\\n- Cosmo Sferico di Sogni Rigenerativi\\n- Cosmopolis delle Galassie Perdute\\n- Echi del Mare Eterno\\n- Entropia Eterna\\n- Eterea Sinfonia di Gravità con Infusione Temporale\\n- Galassia Commovente di Stellari\\n- Galassia Incantata: Un Viaggio Attraverso l'Infinito\\n- Galassia a Tavola: Sinfonia di Tempeste Cosmiche\\n- Galassia di Sapore Quantico\\n- Galassie Riflesse: Sinfonia del Multiverso\\n- Galassie alla Spirale di Vento con Sfera di Ghiaccio Eterno\\n- Galassie in Epifania: Risotto Celestiale con Preziosi dell'Universo\\n- Il Risveglio del Drago Celeste\\n- Il Viaggio Cosmico di Marinetti\\n- Il Viaggio delle Dimensioni Confluenti\\n- L'Abbraccio del Cosmo\\n- La Creazione di Nova\\n- Melodia del Multiverso Parallelo\\n- Mycoflora con Polvere di Stelle Sbagliato\\n- Nebulare Asteroideo con Crepuscolo di Mucca\\n- Nebulosa Celestiale alla Stellaris\\n- Ode Cosmica di Terra e Stelle\\n- Odissea Temporale\\n- Piccola Odissea Cosmica\\n- Pizza Cosmica all'Essenza di Drago con Nebbia Arcobaleno e Funghi Orbitali\\n- Pizza Raul\\n- Più Lontano delle Stelle\\n- Porta Celestiale alle Stelle\\n- Quadrifonia Cosmica: Sinfonia di Sapori e Dimensioni\\n- Rinascita Cosmica\\n- Sinfonia Multiversale in Otto Movimenti\",\n",
       " '\\n- Eterea Sinfonia di Gravità con Infusione Temporale\\n- Galassia a Tavola: Sinfonia di Tempeste Cosmiche\\n- Sfogliare Galattico di Sogni Temporali',\n",
       " \"\\n- Bistecca Cacofonica dell'Infinito\\n- Concordanza Cosmica - Sinfonia di Sapori Multidimensionali\\n- Cosmic Harmony\\n- Dimensioni del Mare Stellato\\n- Galassia di Sapori: Il Viaggio Senza Tempo\\n- Galaxia Rinasciata\\n- Nebulosa Galattica\\n- Pizza Cosmica all'Essenza di Drago con Nebbia Arcobaleno e Funghi Orbitali\\n- Risotto dei Multiversi\\n- Risveglio Cosmico\\n- Sinfonia Cosmica di Terre e Stelle\\n- Sinfonia dell'Infinito: Un Viaggio Gnodale tra Terra e Universi\\n- Valzer delle Stelle\\n- Viaggio Cosmico nel Multiverso\\n- Danza Cosmica al Crepuscolo\\n- La Balena Sputafuoco\\n- Nebulare Asteroideo con Crepuscolo di Mucca\\n- Serenata del Multiverso\\n- Sinfonia Astrale - Risotto Multiversale con Risacca Celeste\\n- Universo in Fluttuazione\",\n",
       " \"\\n- Eterea Sinfonia di Gravità con Infusione Temporale\\n- Fenice Galattica\\n- Fenice sull'Orizzonte degli Eventi\\n- Nebulose della Fenice su Vento Lunare\\n- Pizza Baby Daniele\\n- Pizza Emma\\n- Risotto Cosmico alla Draconia\\n- Sinfonia Astrale - Risotto Multiversale con Risacca Celeste\\n- Sinfonia Interstellare di Fusilli del Vento con Nettare di Sirena\\n- Galassia a Tavola: Sinfonia di Tempeste Cosmiche\",\n",
       " \"\\n- Galassia Infinita: Viaggio tra Memorie e Stelle\\n- Sinfonia Cosmica: il Ritorno dell'Imperatore\\n- Sinfonia Temporale Galattica\\n- Sinfonia Temporale al Tocco di Crono\\n- Sinfonia dei Ricordi Celesti\\n- Una Mucca e una Balena nella Singolarità\\n- Valzer delle Stelle\",\n",
       " '\\n- Sinfonia Cosmica di Sapore',\n",
       " '\\n- Galassia di Sapore Quantum\\n- Pizza Baby Simone e Alessandro\\n- Sinfonia Temporale di Fenice e Xenodonte su Pane degli Abissi con Colata di Plasma Vitale e Polvere di Crononite\\n- Valzer delle Stelle',\n",
       " '\\n- Galassia di Sapori: Il Viaggio Senza Tempo',\n",
       " \"\\n- Galassia di Sapore Interstellare\\n- Galassia di Sapori: Il Viaggio Senza Tempo\\n- Galassia di Sapori: Sinfonia Transdimensionale\\n- Galassia di Sogni Cosmogastronomici\\n- Galassia in Tavola: Sinfonia dei Sensi\\n- Galassia nel Piatto: Sinfonia Universale di Aromi e Sapori\\n- Galassie Infiammate: Sinfonia Cosmica in Sei Dimensioni\\n- Galassie in Epifania: Risotto Celestiale con Preziosi dell'Universo\\n- Il Ricordo del Fuoco Celeste\\n- Nebulosa dell'Infinito\\n- Ode Cosmica di Terra e Stelle\\n- Pane e Carne Rivisitato\\n- Piccola Odissea Cosmica\\n- Pioggia Calante dell'Universo\\n- Pizza Baby Daniele\\n- Pizza Baby Simone e Alessandro\\n- Plasma Celestiale al Risotto di Kraken nell'Aura del Sole\\n- Quadrifonia Cosmica: Sinfonia di Sapori e Dimensioni\\n- Risotto dei Multiversi\\n- Sinfonia Celestiale dei Ricordi\\n- Sinfonia Cosmica della Rinascita\\n- Sinfonia Cosmica: Versione Pizza\",\n",
       " '\\n- Sinfonia Interstellare di Fusilli del Vento con Nettare di Sirena\\n- Pizza Baby Simone e Alessandro\\n- Sfogliare Galattico di Sogni Temporali',\n",
       " '\\n- Portale Cosmico del Kraken\\n- Una Mucca e una Balena nella Singolarità',\n",
       " \"\\n- Fenice sull'Orizzonte degli Eventi\",\n",
       " \"\\n- Galassia Infinita: Viaggio tra Memorie e Stelle\\n- Il Risveglio del Drago Celeste\\n- Nebulae Di-Cedri Risvegliati\\n- Nebulosa di Dragone all'Essenza di Vuoto\\n- Sinfonia Aromatica del Multiverso\\n- Sinfonia Cosmica: il Ritorno dell'Imperatore\\n- Sinfonia Crepuscolare\\n- Sinfonia Galattica alla Griglia Cangiante\\n- Sinfonia Temporale Galattica\\n- Sinfonia Temporale al Tocco di Crono\\n- Sinfonia dei Ricordi Celesti\\n- Una Mucca e una Balena nella Singolarità\\n- Valzer delle Stelle\",\n",
       " '\\n- Il Simposio degli Infiniti Ricordi',\n",
       " \"\\n- Eterea Sinfonia di Gravità con Infusione Temporale\\n- Fenice Galattica\\n- Fenice sull'Orizzonte degli Eventi\\n- Nebulose della Fenice su Vento Lunare\\n- Pizza Baby Daniele\\n- Pizza Emma\\n- Risotto Cosmico alla Draconia\\n- Sinfonia Astrale - Risotto Multiversale con Risacca Celeste\\n- Sinfonia Interstellare di Fusilli del Vento con Nettare di Sirena\",\n",
       " \"\\n- Falso Risotto dell'Infinito Multiverso\\n- Luce e Ombra di Nomea Spaziale\\n- Rinascita Cosmica\",\n",
       " '\\n- Sinfonia Temporale di Fenice e Xenodonte su Pane degli Abissi con Colata di Plasma Vitale e Polvere di Crononite',\n",
       " '\\n- Ecosistema Celeste\\n- Euforia Cosmica\\n- Nebulosa Celestiale di Sogni Quantici\\n- Nebulosa di Confini Sfondati\\n- Portale Interdimensionale di Sapori',\n",
       " \"\\n- Falso Risotto dell'Infinito Multiverso\\n- Luce e Ombra di Nomea Spaziale\\n- Rinascita Cosmica\",\n",
       " \"\\n- Aurora del Cosmo\\n- Evanescenza Quantica\\n- Galassia di Sapore Quantico\\n- Galassia di Sapori Interstellari\\n- Galassia di Sapori Sublimi\\n- Galassia di Sapori: L'Eterno Ritorno\\n- Il Risveglio del Multiverso\\n- Nebulae Di-Cedri Risvegliati\\n- Più Lontano delle Stelle\\n- Porta Celestiale alle Stelle\\n- Portale delle Meraviglie\\n- Sinfonia Cosmica\\n- Sinfonia Cosmica di Proteine Interstellari\\n- Sinfonia Cosmica: la Vendetta Fantasma\\n- Sinfonia Quantistica dell'Universo\\n- Sinfonia Quantistica delle Stelle\\n- Sinfonia Temporale delle Profondità Infrasoniche\\n- Sinfonia del Cosmo Rigenerante\\n- Sogni di Abisso Cosmico\\n- Valzer Cosmico di Asteria\\n- Valzer delle Stelle\",\n",
       " '\\n- Cosmos Risotto Reale\\n- Fenice Galattica\\n- Tris di Carne con Pane\\n- La Balena Sputafuoco',\n",
       " '\\n- Sinfonia di Gusti del Multiverso\\n- Sinfonia Galattica ai Cristalli di Nebulite\\n- Più Lontano delle Stelle\\n- Sfere del Ricordo Astrale',\n",
       " '\\n- Sinfonia Astrale - Risotto Multiversale con Risacca Celeste',\n",
       " '\\n- Cosmos in Tavola\\n- Sinfonia Astrale - Risotto Multiversale con Risacca Celeste',\n",
       " '\\n- Sinfonia Temporale nello Spaghi del Sole',\n",
       " '\\n- Nebulosa di Fenice con Sinfonia Eterea',\n",
       " \"\\n- Serenata del Multiverso\\n- Sinfonia Celeste dell'Equilibrio Temporale\\n- Sinfonia Celestiale di Echi Galattici\\n- Sinfonia Cosmica di Mare e Stelle\\n- Sinfonia Cosmica di Proteine Interstellari\\n- Sinfonia Cosmica ma Fatta Bene\\n- Sinfonia Cosmica: Il Crescendo delle Stelle\\n- Sinfonia Galattica Agentica\\n- Sinfonia Quantistica delle Stelle\\n- Sinfonia Temporale delle Profondità Infrasoniche\\n- Sinfonia del Multiverso Nascente\\n- Sinfonia di Multiverso: La Danza degli Elementi\\n- Tris di Carne con Pane\\n- Una Mucca e una Balena nella Singolarità\\n- Viaggio Celeste nel Multiverso\",\n",
       " \"\\n- Sinfonia Cosmica: La Danza dell'Universo\\n- Portale di Sapori Arcani\\n- Risotto Interdimensionale alla Carne di Drago e Balena Spaziale\\n- Serenata del Multiverso\\n- Sinfonia Celeste dell'Equilibrio Temporale\\n- Sinfonia Celestiale di Echi Galattici\\n- Sinfonia Cosmica di Mare e Stelle\\n- Sinfonia Cosmica di Proteine Interstellari\\n- Sinfonia Cosmica ma Fatta Bene\\n- Sinfonia Cosmica: Il Crescendo delle Stelle\\n- Sinfonia Galattica Agentica\\n- Sinfonia Quantistica delle Stelle\\n- Sinfonia Temporale delle Profondità Infrasoniche\\n- Sinfonia del Multiverso Nascente\\n- Sinfonia di Multiverso: La Danza degli Elementi\\n- Tris di Carne con Pane\\n- Una Mucca e una Balena nella Singolarità\\n- Viaggio Celeste nel Multiverso\",\n",
       " '\\n- Viaggio Gastronomico tra le Stelle',\n",
       " '\\n- La Balena incontra la Mandragora',\n",
       " '\\n- Sinfonia Interstellare di Fusilli del Vento con Nettare di Sirena',\n",
       " '\\n- Sinfonia Interstellare di Fusilli del Vento con Nettare di Sirena']"
      ]
     },
     "execution_count": 42,
     "metadata": {},
     "output_type": "execute_result"
    }
   ],
   "source": [
    "responses"
   ]
  },
  {
   "cell_type": "code",
   "execution_count": 43,
   "metadata": {},
   "outputs": [],
   "source": [
    "def check_in_dict(phrases, dictionary):\n",
    "    # Split the input into individual phrases\n",
    "    phrases = phrases.split('\\n')\n",
    "    phrases = [phrase.strip() for phrase in phrases]\n",
    "\n",
    "    # Sort dictionary keys by length in descending order\n",
    "    sorted_keys = sorted(dictionary, key=len, reverse=True)\n",
    "\n",
    "    found_keys = []\n",
    "    for phrase in phrases:\n",
    "        for key in sorted_keys:\n",
    "            # Check for exact match of the longest possible key\n",
    "            if key in phrase and all(k not in phrase or k == key for k in found_keys):\n",
    "                found_keys.append(key)\n",
    "                break  # Stop checking once the longest match is found\n",
    "\n",
    "    return found_keys"
   ]
  },
  {
   "cell_type": "code",
   "execution_count": 44,
   "metadata": {},
   "outputs": [],
   "source": [
    "answers = {}\n",
    "\n",
    "for i in range(len(responses)):\n",
    "    dishes = check_in_dict(responses[i], dish_mapping)\n",
    "    ids = list(map(str, list(set([dish_mapping[dish] for dish in dishes if dish in dish_mapping]))))\n",
    "    if len(ids) == 0:\n",
    "        answers[i + 1] = \"10\"\n",
    "    else:\n",
    "        answers[i + 1] = \",\".join(ids)"
   ]
  },
  {
   "cell_type": "code",
   "execution_count": 45,
   "metadata": {},
   "outputs": [
    {
     "data": {
      "text/plain": [
       "{1: '78',\n",
       " 2: '225',\n",
       " 3: '156',\n",
       " 4: '215',\n",
       " 5: '94',\n",
       " 6: '225,227,165,232,201,176,208,242,179,243,272,150,247,184,153,273,155,278',\n",
       " 7: '267,189',\n",
       " 8: '130,6,13,15,209,51',\n",
       " 9: '76,207',\n",
       " 10: '184,266,115',\n",
       " 11: '246,199',\n",
       " 12: '240,185',\n",
       " 13: '125',\n",
       " 14: '1,101,77,78,80,81',\n",
       " 15: '160,34,35,281,103,10,269,147,248,217,125,191',\n",
       " 16: '160,34,35,281,10,147,248,217,125,191',\n",
       " 17: '263,170,16,112,276,215,219,157,190',\n",
       " 18: '128,37,170,45,91',\n",
       " 19: '53',\n",
       " 20: '72,71',\n",
       " 21: '70,168,245,90,220',\n",
       " 22: '130,69,199,74,75,79,82,127',\n",
       " 23: '10',\n",
       " 24: '118',\n",
       " 25: '216,81,118,94',\n",
       " 26: '34,205',\n",
       " 27: '115',\n",
       " 28: '43,284',\n",
       " 29: '248,34,227,69,264,172,15,214,88,60',\n",
       " 30: '77,110,112,180,190',\n",
       " 31: '260,262,135,12,157,158,166,41,44,45,174,180,186,190,192,198,204,77,86,92,230,104,110,112,117,127',\n",
       " 32: '128,124,206',\n",
       " 33: '174,208,252,86,188',\n",
       " 34: '272',\n",
       " 35: '217,140,272,279,121,284',\n",
       " 36: '160,72,276,118,215,158',\n",
       " 37: '140',\n",
       " 38: '73,174',\n",
       " 39: '160,99,5,42,203,110,208,85,86,247',\n",
       " 40: '197,41,235,140,49,50,153,158',\n",
       " 41: '200,191,187,55',\n",
       " 42: '48,179',\n",
       " 43: '64,37,59,265,207,275,123',\n",
       " 44: '163,169,142,147,88,281,61',\n",
       " 45: '246',\n",
       " 46: '32,33,165,270,56,286',\n",
       " 47: '124,166',\n",
       " 48: '169',\n",
       " 49: '257,2,271,273,151,281,283,157,158,173,178,51,191,66,199,73,203,92,98,104,105,108,118,122,123',\n",
       " 50: '1,2,133,8,10,11,14,144,146,19,147,23,154,155,31,160,38,167,44,172,50,52,55,56,60,61,64,69,78,79,86,92,94,109,113,118,122,127',\n",
       " 51: '258,260,264,9,14,20,155,285,33,35,51,180,54,61,194,198,213,89,90,95,100,102,231,122',\n",
       " 52: '2,4,276,185,251,124',\n",
       " 53: '258,9,202,247,254',\n",
       " 54: '64,163,132,40,137,74,106,76,233,207,16,48,82,52,25,26,220,57',\n",
       " 55: '136,265,138,268,147,22,23,156,161,35,40,168,48,54,63,90,94,222,225,105,234,250,109,242,245,119,122',\n",
       " 56: '134,9,137,16,17,146,21,151,152,155,40,168,42,47,49,180,58,187,193,66,195,68,197,206,216,92,221,95,101,234,236,237,111,114,115,118',\n",
       " 57: '261,11,141,143,19,20,279,153,282,164,174,48,50,52,189,190,70,198,82,210,212,91,219,225,111,247,127',\n",
       " 58: '258,137,14,276,22,278,155,285,37,167,44,172,55,196,71,77,85,87,215,216,106,234,239,112,121,252',\n",
       " 59: '232,265,202,43,254,85,151,280,28,190',\n",
       " 60: '197,112,274,27,125,191',\n",
       " 61: '40',\n",
       " 62: '77',\n",
       " 63: '256,1,4,7,138,271,146,276,277,153,154,31,174,175,48,176,179,52,184,186,59,60,191,196,70,202,76,207,80,85,216,218,219,93,224,105,108,112,114,119,255',\n",
       " 64: '260,262,135,264,12,14,15,17,19,157,158,34,166,41,44,45,174,172,180,186,60,190,192,69,198,204,77,86,88,92,230,104,110,112,117,248,127',\n",
       " 65: '128,132,133,144,17,23,24,156,159,162,35,37,168,173,179,52,53,185,66,194,68,75,76,77,212,220,93,103,104,233,106,121',\n",
       " 66: '50,270',\n",
       " 67: '128,130,132,260,263,143,145,280,283,37,169,170,42,45,50,186,194,69,199,74,75,206,79,82,91,97,225,230,107,109,127',\n",
       " 68: '163,8,169,10,142,147,52,88,281,61,190',\n",
       " 69: '129,1,2,141,15,272,16,145,20,149,153,154,283,28,156,33,162,163,166,39,41,176,179,182,54,55,58,63,64,71,86,88,89,96,102,104,107,108,236,114,244,121,123,125,127',\n",
       " 70: '41,193,63',\n",
       " 71: '257,130,7,8,9,274,278,281,27,156,30,184,185,191,197,78,218,91,112,125',\n",
       " 72: '197,41,235,140,49,50,182,153,158,63',\n",
       " 73: '226,271,242,243,278,56,249',\n",
       " 74: '215',\n",
       " 75: '72,155,246,278',\n",
       " 76: '78',\n",
       " 77: '141,146,149,150,153,155,165,176,184,70,201,78,80,81,82,83,208,85,89,95,225',\n",
       " 78: '193,235,155',\n",
       " 79: '168,271',\n",
       " 80: '50',\n",
       " 81: '96,226,195,229,134,233,271,242,243,278,56,249,124',\n",
       " 82: '100',\n",
       " 83: '197,41,235,140,49,50,182,153,158',\n",
       " 84: '48,179,118',\n",
       " 85: '246',\n",
       " 86: '128,132,37,170,45',\n",
       " 87: '48,179,118',\n",
       " 88: '6,266,277,278,163,166,173,47,71,75,76,204,79,97,239,240,245,251,124',\n",
       " 89: '112,49,269,23',\n",
       " 90: '232,163,192,263',\n",
       " 91: '197',\n",
       " 92: '24,197',\n",
       " 93: '247',\n",
       " 94: '135',\n",
       " 95: '255,198,231,264,202,269,271,240,213,214,245,280,220,222,191',\n",
       " 96: '223,255,198,231,264,202,269,175,240,271,213,214,245,280,220,222,191',\n",
       " 97: '284',\n",
       " 98: '113',\n",
       " 99: '235',\n",
       " 100: '235'}"
      ]
     },
     "execution_count": 45,
     "metadata": {},
     "output_type": "execute_result"
    }
   ],
   "source": [
    "answers"
   ]
  },
  {
   "cell_type": "code",
   "execution_count": 46,
   "metadata": {},
   "outputs": [],
   "source": [
    "import csv\n",
    "csv_filename = \"answers_mistral.csv\"\n",
    "with open(csv_filename, mode='w', newline='') as csvfile:\n",
    "    csv_writer = csv.writer(csvfile)\n",
    "    csv_writer.writerow(['row_id', 'result'])\n",
    "    for key, value in answers.items():\n",
    "        csv_writer.writerow([int(key), f'{value}'])"
   ]
  }
 ],
 "metadata": {
  "kernelspec": {
   "display_name": "hack",
   "language": "python",
   "name": "python3"
  },
  "language_info": {
   "codemirror_mode": {
    "name": "ipython",
    "version": 3
   },
   "file_extension": ".py",
   "mimetype": "text/x-python",
   "name": "python",
   "nbconvert_exporter": "python",
   "pygments_lexer": "ipython3",
   "version": "3.12.8"
  }
 },
 "nbformat": 4,
 "nbformat_minor": 2
}
